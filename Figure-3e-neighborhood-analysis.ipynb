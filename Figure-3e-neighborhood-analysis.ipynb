{
 "cells": [
  {
   "cell_type": "code",
   "execution_count": 2,
   "id": "be424366-e35a-4651-9234-a293c3fb9a98",
   "metadata": {},
   "outputs": [
    {
     "name": "stderr",
     "output_type": "stream",
     "text": [
      "/Users/romansankowski/mambaforge/lib/python3.10/site-packages/geopandas/_compat.py:124: UserWarning: The Shapely GEOS version (3.11.1-CAPI-1.17.1) is incompatible with the GEOS version PyGEOS was compiled with (3.10.4-CAPI-1.16.2). Conversions between both will be slow.\n",
      "  warnings.warn(\n",
      "/Users/romansankowski/mambaforge/lib/python3.10/site-packages/spatialdata/__init__.py:9: UserWarning: Geopandas was set to use PyGEOS, changing to shapely 2.0 with:\n",
      "\n",
      "\tgeopandas.options.use_pygeos = True\n",
      "\n",
      "If you intended to use PyGEOS, set the option to False.\n",
      "  _check_geopandas_using_shapely()\n"
     ]
    }
   ],
   "source": [
    "import scanpy as sc\n",
    "import squidpy as sq\n",
    "import pandas as pd\n",
    "\n",
    "#sc.settings.verbosity = 3adata = sq.datasets.visium_hne_adata()\n",
    "sc.settings.set_figure_params(dpi=80, facecolor=\"white\")"
   ]
  },
  {
   "cell_type": "code",
   "execution_count": 8,
   "id": "ef018cd3-35cc-499c-bce7-6484da27e7cd",
   "metadata": {},
   "outputs": [],
   "source": [
    "counts =  pd.read_csv('data/Out_CtrlCtx4_Scale50_High_Prior_s50_sd50_conf08/segmentation_counts_filt_prior08.csv',\n",
    "                     index_col=0) # feature matrix\n",
    "coordinates = pd.read_csv('data/Out_CtrlCtx4_Scale50_High_Prior_s50_sd50_conf08/b1hi_ctrl_coord_prior08.csv',\n",
    "                    index_col=0)  # spatial coordinates\n",
    "#image = NULL  # image\n",
    "labels = pd.read_csv('data/predictions_ctx4.csv',\n",
    "                    index_col=0)"
   ]
  },
  {
   "cell_type": "code",
   "execution_count": 10,
   "id": "7ad83871-eb85-4a20-93cf-7cf5c46cc63b",
   "metadata": {},
   "outputs": [],
   "source": [
    "counts2 = counts.transpose()"
   ]
  },
  {
   "cell_type": "markdown",
   "id": "c10e3401-306c-4601-af94-7c4e774e4295",
   "metadata": {},
   "source": [
    "### Create scanpy object "
   ]
  },
  {
   "cell_type": "code",
   "execution_count": 11,
   "id": "6d38189b-122b-4e23-8cc8-4c589313fbdf",
   "metadata": {},
   "outputs": [],
   "source": [
    "adata = sc.AnnData(counts2.loc[labels.index], obsm={\"spatial\": coordinates.loc[labels.index],\n",
    "                             \"celltype\" : labels})"
   ]
  },
  {
   "cell_type": "markdown",
   "id": "d5dac284-1b15-4342-8d5c-b20482de6495",
   "metadata": {},
   "source": [
    "### Standard clustering of scanpy object"
   ]
  },
  {
   "cell_type": "code",
   "execution_count": 12,
   "id": "50ca6fca-d5a8-4d3b-aa2f-a2142c84e4fe",
   "metadata": {},
   "outputs": [
    {
     "name": "stderr",
     "output_type": "stream",
     "text": [
      "/Users/romansankowski/mambaforge/lib/python3.10/site-packages/umap/distances.py:1063: NumbaDeprecationWarning: \u001b[1mThe 'nopython' keyword argument was not supplied to the 'numba.jit' decorator. The implicit default value for this argument is currently False, but it will be changed to True in Numba 0.59.0. See https://numba.readthedocs.io/en/stable/reference/deprecation.html#deprecation-of-object-mode-fall-back-behaviour-when-using-jit for details.\u001b[0m\n",
      "  @numba.jit()\n",
      "/Users/romansankowski/mambaforge/lib/python3.10/site-packages/umap/distances.py:1071: NumbaDeprecationWarning: \u001b[1mThe 'nopython' keyword argument was not supplied to the 'numba.jit' decorator. The implicit default value for this argument is currently False, but it will be changed to True in Numba 0.59.0. See https://numba.readthedocs.io/en/stable/reference/deprecation.html#deprecation-of-object-mode-fall-back-behaviour-when-using-jit for details.\u001b[0m\n",
      "  @numba.jit()\n",
      "/Users/romansankowski/mambaforge/lib/python3.10/site-packages/umap/distances.py:1086: NumbaDeprecationWarning: \u001b[1mThe 'nopython' keyword argument was not supplied to the 'numba.jit' decorator. The implicit default value for this argument is currently False, but it will be changed to True in Numba 0.59.0. See https://numba.readthedocs.io/en/stable/reference/deprecation.html#deprecation-of-object-mode-fall-back-behaviour-when-using-jit for details.\u001b[0m\n",
      "  @numba.jit()\n",
      "/Users/romansankowski/mambaforge/lib/python3.10/site-packages/tqdm/auto.py:21: TqdmWarning: IProgress not found. Please update jupyter and ipywidgets. See https://ipywidgets.readthedocs.io/en/stable/user_install.html\n",
      "  from .autonotebook import tqdm as notebook_tqdm\n",
      "/Users/romansankowski/mambaforge/lib/python3.10/site-packages/umap/umap_.py:660: NumbaDeprecationWarning: \u001b[1mThe 'nopython' keyword argument was not supplied to the 'numba.jit' decorator. The implicit default value for this argument is currently False, but it will be changed to True in Numba 0.59.0. See https://numba.readthedocs.io/en/stable/reference/deprecation.html#deprecation-of-object-mode-fall-back-behaviour-when-using-jit for details.\u001b[0m\n",
      "  @numba.jit()\n"
     ]
    },
    {
     "data": {
      "text/plain": [
       "AnnData object with n_obs × n_vars = 109410 × 187\n",
       "    obs: 'leiden'\n",
       "    uns: 'log1p', 'pca', 'neighbors', 'umap', 'leiden'\n",
       "    obsm: 'spatial', 'celltype', 'X_pca', 'X_umap'\n",
       "    varm: 'PCs'\n",
       "    obsp: 'distances', 'connectivities'"
      ]
     },
     "execution_count": 12,
     "metadata": {},
     "output_type": "execute_result"
    }
   ],
   "source": [
    "sc.pp.normalize_total(adata)\n",
    "sc.pp.log1p(adata)\n",
    "sc.pp.pca(adata)\n",
    "sc.pp.neighbors(adata)\n",
    "sc.tl.umap(adata)\n",
    "sc.tl.leiden(adata)\n",
    "adata"
   ]
  },
  {
   "cell_type": "markdown",
   "id": "54a8d979-f3e9-4e5f-849e-a3d9b53e7141",
   "metadata": {},
   "source": [
    "### Compute spatial connectivity matrix"
   ]
  },
  {
   "cell_type": "code",
   "execution_count": 13,
   "id": "144d41a9-a7dc-4ac6-bc67-1753c0e7e437",
   "metadata": {},
   "outputs": [],
   "source": [
    "sq.gr.spatial_neighbors(adata)"
   ]
  },
  {
   "cell_type": "code",
   "execution_count": 14,
   "id": "2beb70b6-92a6-4f41-9a40-99edfd99527c",
   "metadata": {},
   "outputs": [
    {
     "ename": "KeyError",
     "evalue": "'label'",
     "output_type": "error",
     "traceback": [
      "\u001b[0;31m---------------------------------------------------------------------------\u001b[0m",
      "\u001b[0;31mKeyError\u001b[0m                                  Traceback (most recent call last)",
      "File \u001b[0;32m~/mambaforge/lib/python3.10/site-packages/pandas/core/indexes/base.py:3653\u001b[0m, in \u001b[0;36mIndex.get_loc\u001b[0;34m(self, key)\u001b[0m\n\u001b[1;32m   3652\u001b[0m \u001b[38;5;28;01mtry\u001b[39;00m:\n\u001b[0;32m-> 3653\u001b[0m     \u001b[38;5;28;01mreturn\u001b[39;00m \u001b[38;5;28;43mself\u001b[39;49m\u001b[38;5;241;43m.\u001b[39;49m\u001b[43m_engine\u001b[49m\u001b[38;5;241;43m.\u001b[39;49m\u001b[43mget_loc\u001b[49m\u001b[43m(\u001b[49m\u001b[43mcasted_key\u001b[49m\u001b[43m)\u001b[49m\n\u001b[1;32m   3654\u001b[0m \u001b[38;5;28;01mexcept\u001b[39;00m \u001b[38;5;167;01mKeyError\u001b[39;00m \u001b[38;5;28;01mas\u001b[39;00m err:\n",
      "File \u001b[0;32m~/mambaforge/lib/python3.10/site-packages/pandas/_libs/index.pyx:147\u001b[0m, in \u001b[0;36mpandas._libs.index.IndexEngine.get_loc\u001b[0;34m()\u001b[0m\n",
      "File \u001b[0;32m~/mambaforge/lib/python3.10/site-packages/pandas/_libs/index.pyx:176\u001b[0m, in \u001b[0;36mpandas._libs.index.IndexEngine.get_loc\u001b[0;34m()\u001b[0m\n",
      "File \u001b[0;32mpandas/_libs/hashtable_class_helper.pxi:7080\u001b[0m, in \u001b[0;36mpandas._libs.hashtable.PyObjectHashTable.get_item\u001b[0;34m()\u001b[0m\n",
      "File \u001b[0;32mpandas/_libs/hashtable_class_helper.pxi:7088\u001b[0m, in \u001b[0;36mpandas._libs.hashtable.PyObjectHashTable.get_item\u001b[0;34m()\u001b[0m\n",
      "\u001b[0;31mKeyError\u001b[0m: 'label'",
      "\nThe above exception was the direct cause of the following exception:\n",
      "\u001b[0;31mKeyError\u001b[0m                                  Traceback (most recent call last)",
      "Cell \u001b[0;32mIn[14], line 2\u001b[0m\n\u001b[1;32m      1\u001b[0m \u001b[38;5;66;03m## add celltype as clustering variable\u001b[39;00m\n\u001b[0;32m----> 2\u001b[0m adata\u001b[38;5;241m.\u001b[39mobs[\u001b[38;5;124m\"\u001b[39m\u001b[38;5;124mcelltype\u001b[39m\u001b[38;5;124m\"\u001b[39m] \u001b[38;5;241m=\u001b[39m \u001b[38;5;28mlist\u001b[39m(\u001b[43mlabels\u001b[49m\u001b[43m[\u001b[49m\u001b[38;5;124;43m'\u001b[39;49m\u001b[38;5;124;43mlabel\u001b[39;49m\u001b[38;5;124;43m'\u001b[39;49m\u001b[43m]\u001b[49m)\n\u001b[1;32m      3\u001b[0m adata\u001b[38;5;241m.\u001b[39mobs[\u001b[38;5;124m\"\u001b[39m\u001b[38;5;124mcelltype\u001b[39m\u001b[38;5;124m\"\u001b[39m] \u001b[38;5;241m=\u001b[39m adata\u001b[38;5;241m.\u001b[39mobs[\u001b[38;5;124m\"\u001b[39m\u001b[38;5;124mcelltype\u001b[39m\u001b[38;5;124m\"\u001b[39m]\u001b[38;5;241m.\u001b[39mastype(\u001b[38;5;124m'\u001b[39m\u001b[38;5;124mcategory\u001b[39m\u001b[38;5;124m'\u001b[39m)                           \n",
      "File \u001b[0;32m~/mambaforge/lib/python3.10/site-packages/pandas/core/frame.py:3761\u001b[0m, in \u001b[0;36mDataFrame.__getitem__\u001b[0;34m(self, key)\u001b[0m\n\u001b[1;32m   3759\u001b[0m \u001b[38;5;28;01mif\u001b[39;00m \u001b[38;5;28mself\u001b[39m\u001b[38;5;241m.\u001b[39mcolumns\u001b[38;5;241m.\u001b[39mnlevels \u001b[38;5;241m>\u001b[39m \u001b[38;5;241m1\u001b[39m:\n\u001b[1;32m   3760\u001b[0m     \u001b[38;5;28;01mreturn\u001b[39;00m \u001b[38;5;28mself\u001b[39m\u001b[38;5;241m.\u001b[39m_getitem_multilevel(key)\n\u001b[0;32m-> 3761\u001b[0m indexer \u001b[38;5;241m=\u001b[39m \u001b[38;5;28;43mself\u001b[39;49m\u001b[38;5;241;43m.\u001b[39;49m\u001b[43mcolumns\u001b[49m\u001b[38;5;241;43m.\u001b[39;49m\u001b[43mget_loc\u001b[49m\u001b[43m(\u001b[49m\u001b[43mkey\u001b[49m\u001b[43m)\u001b[49m\n\u001b[1;32m   3762\u001b[0m \u001b[38;5;28;01mif\u001b[39;00m is_integer(indexer):\n\u001b[1;32m   3763\u001b[0m     indexer \u001b[38;5;241m=\u001b[39m [indexer]\n",
      "File \u001b[0;32m~/mambaforge/lib/python3.10/site-packages/pandas/core/indexes/base.py:3655\u001b[0m, in \u001b[0;36mIndex.get_loc\u001b[0;34m(self, key)\u001b[0m\n\u001b[1;32m   3653\u001b[0m     \u001b[38;5;28;01mreturn\u001b[39;00m \u001b[38;5;28mself\u001b[39m\u001b[38;5;241m.\u001b[39m_engine\u001b[38;5;241m.\u001b[39mget_loc(casted_key)\n\u001b[1;32m   3654\u001b[0m \u001b[38;5;28;01mexcept\u001b[39;00m \u001b[38;5;167;01mKeyError\u001b[39;00m \u001b[38;5;28;01mas\u001b[39;00m err:\n\u001b[0;32m-> 3655\u001b[0m     \u001b[38;5;28;01mraise\u001b[39;00m \u001b[38;5;167;01mKeyError\u001b[39;00m(key) \u001b[38;5;28;01mfrom\u001b[39;00m \u001b[38;5;21;01merr\u001b[39;00m\n\u001b[1;32m   3656\u001b[0m \u001b[38;5;28;01mexcept\u001b[39;00m \u001b[38;5;167;01mTypeError\u001b[39;00m:\n\u001b[1;32m   3657\u001b[0m     \u001b[38;5;66;03m# If we have a listlike key, _check_indexing_error will raise\u001b[39;00m\n\u001b[1;32m   3658\u001b[0m     \u001b[38;5;66;03m#  InvalidIndexError. Otherwise we fall through and re-raise\u001b[39;00m\n\u001b[1;32m   3659\u001b[0m     \u001b[38;5;66;03m#  the TypeError.\u001b[39;00m\n\u001b[1;32m   3660\u001b[0m     \u001b[38;5;28mself\u001b[39m\u001b[38;5;241m.\u001b[39m_check_indexing_error(key)\n",
      "\u001b[0;31mKeyError\u001b[0m: 'label'"
     ]
    }
   ],
   "source": [
    "## add celltype as clustering variable\n",
    "adata.obs[\"celltype\"] = list(labels['label'])\n",
    "adata.obs[\"celltype\"] = adata.obs[\"celltype\"].astype('category')                           "
   ]
  },
  {
   "cell_type": "markdown",
   "id": "e0847b26-a187-4cf1-8972-1067f625b80d",
   "metadata": {},
   "source": [
    "### Run spatial enrichment analysis"
   ]
  },
  {
   "cell_type": "code",
   "execution_count": null,
   "id": "68f7f232-eb7b-4223-9017-4b934130b310",
   "metadata": {},
   "outputs": [],
   "source": [
    "sq.gr.nhood_enrichment(adata, cluster_key=\"celltype\")"
   ]
  },
  {
   "cell_type": "code",
   "execution_count": null,
   "id": "34511a1a-1155-434b-a0d4-b024c15e6dee",
   "metadata": {},
   "outputs": [],
   "source": [
    "adata.uns[\"celltype_nhood_enrichment\"]\n"
   ]
  },
  {
   "cell_type": "code",
   "execution_count": null,
   "id": "725e5b90-b4b2-465b-862c-a088e72cacc2",
   "metadata": {},
   "outputs": [],
   "source": [
    "sq.pl.nhood_enrichment(adata, \n",
    "                       cluster_key=\"celltype\", \n",
    "                       method=\"average\", \n",
    "                       figsize=(9, 9),\n",
    "                        save='cartana_celltype_neighborhood_enrichment.pdf')"
   ]
  },
  {
   "cell_type": "markdown",
   "id": "41592858-821a-40e2-91bc-39ece92d7a16",
   "metadata": {},
   "source": [
    "### Add celltype interaction"
   ]
  },
  {
   "cell_type": "code",
   "execution_count": null,
   "id": "ea2ce986-7569-496f-9dca-6f932fabbf3f",
   "metadata": {},
   "outputs": [],
   "source": [
    "sq.gr.interaction_matrix(adata, cluster_key=\"celltype\")"
   ]
  },
  {
   "cell_type": "code",
   "execution_count": null,
   "id": "621846d1-2caf-46c8-9fd2-a8b0527e985d",
   "metadata": {},
   "outputs": [],
   "source": [
    "adata.uns[\"celltype_interactions\"]"
   ]
  },
  {
   "cell_type": "code",
   "execution_count": null,
   "id": "c749fa7e-8645-4cb4-bd2c-d786ca2b98e0",
   "metadata": {},
   "outputs": [],
   "source": [
    "sq.pl.interaction_matrix(adata, cluster_key=\"celltype\", method=\"average\", figsize=(5, 5))"
   ]
  },
  {
   "cell_type": "markdown",
   "id": "f113fd81-4bfa-4656-86d8-ccaa1a4b631c",
   "metadata": {},
   "source": [
    "### Subset for parenchyma cells"
   ]
  },
  {
   "cell_type": "code",
   "execution_count": null,
   "id": "1eb50e07-5228-49b9-bc6e-3d1b82a0da26",
   "metadata": {},
   "outputs": [],
   "source": [
    "adata_ctx = adata[adata.obs['celltype'].isin(['Oligo', 'CAMs', 'Neuron','Astro','MG','Mural cells','Endothelial cells'])]\n",
    "## run interaction analysis\n",
    "sq.gr.interaction_matrix(adata_ctx, cluster_key=\"celltype\")"
   ]
  },
  {
   "cell_type": "code",
   "execution_count": null,
   "id": "09e3e4b6-98f0-47ac-ae16-04f699f46c81",
   "metadata": {},
   "outputs": [],
   "source": [
    "sq.pl.interaction_matrix(adata_ctx, \n",
    "                         cluster_key=\"celltype\", \n",
    "                         method=\"average\", \n",
    "                         figsize=(5, 5),\n",
    "                        save='ctx_celltype_interactions.svg')"
   ]
  },
  {
   "cell_type": "markdown",
   "id": "bcae6540-d0ba-496f-b99a-0e424ba97e62",
   "metadata": {},
   "source": [
    "### Subset for LM cells "
   ]
  },
  {
   "cell_type": "code",
   "execution_count": null,
   "id": "9e1d6f67-093d-4d0a-b5c0-17aef7bc683d",
   "metadata": {},
   "outputs": [],
   "source": [
    "adata_lm = adata[adata.obs['celltype'].isin(['CAMs', 'Lymphocytes','Fibroblast','Mural cells','Endothelial cells'])]\n",
    "## run interaction analysis\n",
    "sq.gr.interaction_matrix(adata_lm, cluster_key=\"celltype\")"
   ]
  },
  {
   "cell_type": "code",
   "execution_count": null,
   "id": "fcbf4370-3eed-4fe3-a88a-27c17621e6d3",
   "metadata": {},
   "outputs": [],
   "source": [
    "sq.pl.interaction_matrix(adata_lm, \n",
    "                         cluster_key=\"celltype\", \n",
    "                         method=\"average\", \n",
    "                         figsize=(9, 9),\n",
    "                        save='lm_celltype_interactions.pdf')\n"
   ]
  },
  {
   "cell_type": "markdown",
   "id": "be43a37f-62fb-42ad-90b1-97f88a1399d7",
   "metadata": {},
   "source": [
    "### Export package versions"
   ]
  },
  {
   "cell_type": "code",
   "execution_count": 7,
   "id": "dc631bce-7f69-49ab-af4e-2740ba39e872",
   "metadata": {},
   "outputs": [],
   "source": [
    "import sys\n",
    "sys.modules.keys()\n",
    "import types\n",
    "def imports():\n",
    "    for name, val in globals().items():\n",
    "        if isinstance(val, types.ModuleType):\n",
    "            yield val.__name__"
   ]
  },
  {
   "cell_type": "code",
   "execution_count": 8,
   "id": "ab715cf4-609a-44e8-98a4-1c867f83fe45",
   "metadata": {},
   "outputs": [],
   "source": [
    "!pip freeze > requirements.txt\n"
   ]
  },
  {
   "cell_type": "code",
   "execution_count": null,
   "id": "9b770bdc-24ea-481d-ae7b-9b4e7dcb910e",
   "metadata": {},
   "outputs": [],
   "source": []
  }
 ],
 "metadata": {
  "kernelspec": {
   "display_name": "Python 3 (ipykernel)",
   "language": "python",
   "name": "python3"
  },
  "language_info": {
   "codemirror_mode": {
    "name": "ipython",
    "version": 3
   },
   "file_extension": ".py",
   "mimetype": "text/x-python",
   "name": "python",
   "nbconvert_exporter": "python",
   "pygments_lexer": "ipython3",
   "version": "3.10.12"
  }
 },
 "nbformat": 4,
 "nbformat_minor": 5
}
